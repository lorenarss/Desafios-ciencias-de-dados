{
 "cells": [
  {
   "cell_type": "markdown",
   "id": "201953c4",
   "metadata": {},
   "source": [
    "### Projeto banco DIO"
   ]
  },
  {
   "cell_type": "code",
   "execution_count": 1,
   "id": "fe17e208",
   "metadata": {},
   "outputs": [],
   "source": [
    "menu = '''\n",
    "    [d] = Depositar\n",
    "    [s] = Sacar\n",
    "    [e] = Extrato\n",
    "    [q] = Sair\n",
    "    \n",
    "    =>'''"
   ]
  },
  {
   "cell_type": "code",
   "execution_count": 3,
   "id": "e4a6323e",
   "metadata": {},
   "outputs": [],
   "source": [
    "saldo = 0\n",
    "limite = 500\n",
    "extrato = ''\n",
    "numero_saques = 0\n",
    "LIMITE_SAQUES = 3"
   ]
  },
  {
   "cell_type": "code",
   "execution_count": 7,
   "id": "2eb1e403",
   "metadata": {},
   "outputs": [
    {
     "name": "stdout",
     "output_type": "stream",
     "text": [
      "\n",
      "    [d] = Depositar\n",
      "    [s] = Sacar\n",
      "    [e] = Extrato\n",
      "    [q] = Sair\n",
      "    \n",
      "    =>q\n"
     ]
    }
   ],
   "source": [
    "while True:\n",
    "    opcao = input(menu)\n",
    "    \n",
    "    if opcao == 'd':\n",
    "        valor = float(input('informe um valor de depósito:'))\n",
    "        \n",
    "        if valor > 0:\n",
    "            saldo += valor\n",
    "            extrato += f'Depósito de R$ {valor:.2f}\\n'\n",
    "            \n",
    "        else:\n",
    "            print('Operação falhou! valor inválido')\n",
    "    \n",
    "    elif opcao == 's':\n",
    "        valor = float(input('informe um valor de saque:'))\n",
    "                      \n",
    "        excedeu_saldo = valor > saldo\n",
    "        excedeu_limite = valor > limite\n",
    "        excedeu_saque = numero_saques >= LIMITE_SAQUES\n",
    "        \n",
    "        if excedeu_saldo:\n",
    "            print('Operação falhou, você não tem saldo suficiente')\n",
    "        elif excedeu_limite:\n",
    "            print('Operação falhou, você não tem limite suficiente')\n",
    "        elif excedeu_saque:\n",
    "            print('Operação falhou, excedeu o limite de saques')\n",
    "                      \n",
    "        elif valor > 0:\n",
    "            saldo -= valor\n",
    "            extrato += f'saque de R$ {valor:.2f}\\n'\n",
    "            numero_saques += 1\n",
    "        else:\n",
    "            print('operação falhou! numero informado é inválido')\n",
    "                      \n",
    "    elif opcao == 'e':\n",
    "        print('\\n==================Extrato==========================')\n",
    "        print('Não foram realizadas transações' if not extrato else extrato)\n",
    "        print(f'Saldo R$ {saldo:.2f}')\n",
    "        print('=====================================================')\n",
    "    elif opcao == 'q':\n",
    "        break\n",
    "    else:\n",
    "        print('operação falhou')\n",
    "        \n",
    "        \n",
    "            "
   ]
  }
 ],
 "metadata": {
  "kernelspec": {
   "display_name": "Python 3 (ipykernel)",
   "language": "python",
   "name": "python3"
  },
  "language_info": {
   "codemirror_mode": {
    "name": "ipython",
    "version": 3
   },
   "file_extension": ".py",
   "mimetype": "text/x-python",
   "name": "python",
   "nbconvert_exporter": "python",
   "pygments_lexer": "ipython3",
   "version": "3.10.9"
  }
 },
 "nbformat": 4,
 "nbformat_minor": 5
}
